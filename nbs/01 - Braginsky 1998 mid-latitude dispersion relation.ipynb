{
 "cells": [
  {
   "cell_type": "markdown",
   "metadata": {},
   "source": [
    "# Bragisky 1998 / 1999 MR (Magnetic Rossby) waves"
   ]
  },
  {
   "cell_type": "code",
   "execution_count": 301,
   "metadata": {
    "ExecuteTime": {
     "end_time": "2019-11-08T20:05:54.349396Z",
     "start_time": "2019-11-08T20:05:54.340710Z"
    }
   },
   "outputs": [],
   "source": [
    "# snippet from ~/Library/Jupyter/nbextensions/snippets/snippets.json\n",
    "# basic\n",
    "import numpy as np\n",
    "import matplotlib.pyplot as plt\n",
    "%matplotlib inline"
   ]
  },
  {
   "cell_type": "markdown",
   "metadata": {},
   "source": [
    "# Class\n"
   ]
  },
  {
   "cell_type": "code",
   "execution_count": 327,
   "metadata": {
    "ExecuteTime": {
     "end_time": "2019-11-08T20:15:29.625885Z",
     "start_time": "2019-11-08T20:15:29.605548Z"
    }
   },
   "outputs": [],
   "source": [
    "class SOC:\n",
    "    # constants\n",
    "    R_1 = 3480e3  # m\n",
    "    Omega = 0.729e-4  # /s\n",
    "    d2r = np.pi / 180  # rad/deg\n",
    "    s2yr = 3600 * 24 * 365.25  # s\n",
    "\n",
    "    def __init__(self, m=5, th_0=45, L_th=800e3, H=80e3, N_Omega=2, n=1):\n",
    "        # SOC propertys\n",
    "        self.H = H  # m : layer thickness\n",
    "        self.N = N_Omega * Omega  # /s : SOC buoyancy frequency\n",
    "        self.B_r = 0.45e-2  # m/s : Magnetic field strength (0.45 cm/s == 5 Gauss)\n",
    "        self.m=m\n",
    "        self.th_0=th_0 \n",
    "        self.L_th=L_th\n",
    "        self.n=n\n",
    "\n",
    "    @property\n",
    "    def Omega_r(self):\n",
    "        s = self\n",
    "        Omega_r = SOC.Omega * np.cos(\n",
    "            s.th_0 * np.pi / 180)  # /s : Coriolis property\n",
    "        return Omega_r\n",
    "\n",
    "    @property\n",
    "    def s_0(self):\n",
    "        s = self\n",
    "        s_0 = SOC.R_1 * np.sin(\n",
    "            s.th_0 * d2r)  # m : longitudinal circumference at latitude\n",
    "        return s_0\n",
    "\n",
    "    @property\n",
    "    def k_th(self):\n",
    "        s = self\n",
    "        k_th = np.pi / s.L_th  # /m : latitudinal wavenumber\n",
    "        return k_th\n",
    "\n",
    "    @property\n",
    "    def k_phi(self):\n",
    "        s = self\n",
    "        return s.m / self.s_0\n",
    "\n",
    "    @property\n",
    "    def k_tau(self):\n",
    "        # /m : horizontal wavenum (for B gradients)\n",
    "        k_tau = (self.k_th**2 + self.k_phi**2)**0.5\n",
    "        return k_tau\n",
    "\n",
    "    @property\n",
    "    def L_tau(self):\n",
    "        return np.pi / self.k_tau\n",
    "\n",
    "    @property\n",
    "    def L_H(self):\n",
    "        return self.H\n",
    "\n",
    "    @property\n",
    "    def L_phi(self):\n",
    "        return np.pi * self.s_0 / m\n",
    "\n",
    "    @property\n",
    "    def k_H(self):\n",
    "        return np.pi / self.L_H\n",
    "\n",
    "    @property\n",
    "    def beta(self):\n",
    "        # /m-s : Coriolis beta-property\n",
    "        s = self\n",
    "        beta = 2 * SOC.Omega * np.sin(s.th_0 * SOC.d2r) / SOC.R_1\n",
    "        return beta\n",
    "\n",
    "    @property\n",
    "    def small_ratio(self):\n",
    "        s = self\n",
    "        return 0.13 * (5 / s.m)**2\n",
    "\n",
    "    @property\n",
    "    def omega_beta(self):\n",
    "        # /s (35a)\n",
    "        s = self\n",
    "        return s.beta * s.k_phi * s.k_H**(-2) * (s.N / (2 * s.Omega_r))**2 / s.n**2\n",
    "\n",
    "    @property\n",
    "    def omega_B(self):\n",
    "        s = self\n",
    "        return s.k_tau * s.B_r * (s.N / (2 * s.Omega_r))  # /s (35b)\n",
    "\n",
    "    @property\n",
    "    def omega_MR(self):\n",
    "        # /s (39a)\n",
    "        s = self\n",
    "        omega_MR = -s.omega_beta - s.omega_B**2 / s.omega_beta\n",
    "        return omega_MR\n",
    "        \n",
    "    @property\n",
    "    def omega_MR_sr(self):\n",
    "        # /s (39a)\n",
    "        s = self\n",
    "        omega_MR_sr = -s.omega_beta * (1 + s.small_ratio)\n",
    "        return omega_MR_sr\n",
    "    \n",
    "    def _omega2periodyr(self, omega):\n",
    "        return 2*np.pi/np.abs(omega*s2yr)\n",
    "\n",
    "    def _print_omega(self, omega, name=\"omega\"):\n",
    "        periodyr = self._omega2periodyr(omega)\n",
    "        print(f\"{name} = {omega:.2e} /s , period = {periodyr:.2f} yr\")\n",
    "    \n",
    "    def print_beta(self):\n",
    "        self._print_omega(self.omega_beta, \"omega_beta\")\n",
    "\n",
    "    def print_B(self):\n",
    "        self._print_omega(self.omega_B, \"omega_B\")\n",
    "    \n",
    "    def print_MR(self):\n",
    "        self._print_omega(self.omega_MR, \"omega_MR\")\n",
    "\n",
    "    def print_MR_sr(self):\n",
    "        self._print_omega(self.omega_MR_sr, \"omega_MR_sr\")\n",
    "        \n",
    "\n"
   ]
  },
  {
   "cell_type": "markdown",
   "metadata": {},
   "source": [
    "# Check based on m=5"
   ]
  },
  {
   "cell_type": "code",
   "execution_count": 328,
   "metadata": {
    "ExecuteTime": {
     "end_time": "2019-11-08T20:15:30.187956Z",
     "start_time": "2019-11-08T20:15:30.176768Z"
    }
   },
   "outputs": [
    {
     "name": "stdout",
     "output_type": "stream",
     "text": [
      "omega_beta = 7.81e-08 /s , period = 2.55 yr\n",
      "omega_B = 2.81e-08 /s , period = 7.08 yr\n",
      "omega_MR = -8.82e-08 /s , period = 2.26 yr\n",
      "omega_MR_sr = -8.82e-08 /s , period = 2.26 yr\n"
     ]
    }
   ],
   "source": [
    "# Wave propertys\n",
    "m = 5  # - : longitudinal wavenumber\n",
    "th_0 = 45  # deg : central latitude of wave\n",
    "L_th = 10 * H  # m : latitudinal lengthscale of wave motions\n",
    "w = SOC(m=5, th_0=45, L_th=800e3)\n",
    "w.print_beta()\n",
    "w.print_B()\n",
    "w.print_MR()\n",
    "w.print_MR_sr()\n"
   ]
  },
  {
   "cell_type": "markdown",
   "metadata": {},
   "source": [
    "## Verify Braginsky's values"
   ]
  },
  {
   "cell_type": "code",
   "execution_count": 329,
   "metadata": {
    "ExecuteTime": {
     "end_time": "2019-11-08T20:15:33.400853Z",
     "start_time": "2019-11-08T20:15:33.395907Z"
    }
   },
   "outputs": [
    {
     "name": "stdout",
     "output_type": "stream",
     "text": [
      "beta = 2.963e-11 /m-s\n"
     ]
    }
   ],
   "source": [
    "# β ≈ 3.10–11 m–1s–1 (p. 644)\n",
    "print(f\"beta = {w.beta:.3e} /m-s\")"
   ]
  },
  {
   "cell_type": "code",
   "execution_count": 330,
   "metadata": {
    "ExecuteTime": {
     "end_time": "2019-11-08T20:15:33.860100Z",
     "start_time": "2019-11-08T20:15:33.853714Z"
    }
   },
   "outputs": [
    {
     "name": "stdout",
     "output_type": "stream",
     "text": [
      "2*Omega_r = 1.03e-04 /s\n"
     ]
    }
   ],
   "source": [
    "# frequencies 2Ωr ≈ 10–4 s–1 (p. 644)\n",
    "print(f\"2*Omega_r = {2*w.Omega_r:.2e} /s\")"
   ]
  },
  {
   "cell_type": "code",
   "execution_count": 331,
   "metadata": {
    "ExecuteTime": {
     "end_time": "2019-11-08T20:15:34.329750Z",
     "start_time": "2019-11-08T20:15:34.324963Z"
    }
   },
   "outputs": [
    {
     "name": "stdout",
     "output_type": "stream",
     "text": [
      "L_phi/(5/m) = 1.55e+03 km\n"
     ]
    }
   ],
   "source": [
    "# Let us assume Lθ =10H=8x10^2 km and Lφ =πs0/m= 1.55x10^3(5/m) km (p. 645)\n",
    "print(f\"L_phi/(5/m) = {w.L_phi/(5/w.m)/1e3:.2e} km\")"
   ]
  },
  {
   "cell_type": "code",
   "execution_count": 332,
   "metadata": {
    "ExecuteTime": {
     "end_time": "2019-11-08T20:15:34.754668Z",
     "start_time": "2019-11-08T20:15:34.749920Z"
    }
   },
   "outputs": [
    {
     "name": "stdout",
     "output_type": "stream",
     "text": [
      "s_0/R_1 = 0.7071\n"
     ]
    }
   ],
   "source": [
    "#  s0 = 0.707R1 (p. 645)\n",
    "print(f\"s_0/R_1 = {w.s_0/w.R_1:.4f}\")"
   ]
  },
  {
   "cell_type": "code",
   "execution_count": 333,
   "metadata": {
    "ExecuteTime": {
     "end_time": "2019-11-08T20:15:35.156464Z",
     "start_time": "2019-11-08T20:15:35.148900Z"
    }
   },
   "outputs": [
    {
     "name": "stdout",
     "output_type": "stream",
     "text": [
      "k_th = 3.93e-06 /m\n",
      "k_phi = 2.03e-06 /m\n",
      "k_tau = 4.42e-06 /m\n"
     ]
    }
   ],
   "source": [
    "# For m = 5 we have kθ = 3.9x10–6 m–1, kφ = 2x10–6 m–1, kτ = 4.4x10–6 m–1. (p. 645)\n",
    "print(f\"k_th = {w.k_th:.2e} /m\")\n",
    "print(f\"k_phi = {w.k_phi:.2e} /m\")\n",
    "print(f\"k_tau = {w.k_tau:.2e} /m\")"
   ]
  },
  {
   "cell_type": "code",
   "execution_count": 334,
   "metadata": {
    "ExecuteTime": {
     "end_time": "2019-11-08T20:15:35.581045Z",
     "start_time": "2019-11-08T20:15:35.576513Z"
    }
   },
   "outputs": [
    {
     "name": "stdout",
     "output_type": "stream",
     "text": [
      "(N/2Omega_r)^2 = 2.000\n"
     ]
    }
   ],
   "source": [
    "# (N/2Ωr)^2=2 (p. 645)\n",
    "print(f\"(N/2Omega_r)^2 = {(w.N/(2*w.Omega_r))**2:.3f}\")"
   ]
  },
  {
   "cell_type": "code",
   "execution_count": 335,
   "metadata": {
    "ExecuteTime": {
     "end_time": "2019-11-08T20:15:35.988454Z",
     "start_time": "2019-11-08T20:15:35.982061Z"
    }
   },
   "outputs": [
    {
     "name": "stdout",
     "output_type": "stream",
     "text": [
      "omega_beta = 7.81e-08 /s , period = 2.55 yr\n",
      "omega_B = 2.81e-08 /s , period = 7.08 yr\n"
     ]
    }
   ],
   "source": [
    "# we obtain ωβ = 7.8x10–8 s–1 and ωB = 2.8x10–8 s–1; \n",
    "# the corresponding periods are 2π/ωβ = 2.6 yr and 2π/ωB = 7.1 yr. (p. 645)\n",
    "print_omega(w.omega_beta, \"omega_beta\")\n",
    "print_omega(w.omega_B, \"omega_B\")\n"
   ]
  },
  {
   "cell_type": "code",
   "execution_count": 336,
   "metadata": {
    "ExecuteTime": {
     "end_time": "2019-11-08T20:15:36.376515Z",
     "start_time": "2019-11-08T20:15:36.371508Z"
    }
   },
   "outputs": [
    {
     "name": "stdout",
     "output_type": "stream",
     "text": [
      "small_ratio = 0.130\n"
     ]
    }
   ],
   "source": [
    "# We use the smallness of the ratio ωB2/ωβ2 = 0.13(5/m)2 to simplify calculations. (p. 645)\n",
    "print(f\"small_ratio = {w.small_ratio:.3f}\")"
   ]
  },
  {
   "cell_type": "code",
   "execution_count": 337,
   "metadata": {
    "ExecuteTime": {
     "end_time": "2019-11-08T20:15:36.848420Z",
     "start_time": "2019-11-08T20:15:36.841109Z"
    }
   },
   "outputs": [
    {
     "name": "stdout",
     "output_type": "stream",
     "text": [
      "omega_MR = -8.82e-08 /s , period = -2.26 yr\n",
      "omega_MR_sr = -8.82e-08 /s , period = -2.26 yr\n"
     ]
    }
   ],
   "source": [
    "# small-scale free MR-waves (m ≥ 5) with corresponding free periods, ~3 yr (p. 648)\n",
    "print_omega(w.omega_MR, \"omega_MR\")\n",
    "print_omega(w.omega_MR_sr, \"omega_MR_sr\")\n"
   ]
  },
  {
   "cell_type": "markdown",
   "metadata": {},
   "source": [
    "# Period Variation with parameters"
   ]
  },
  {
   "cell_type": "code",
   "execution_count": 396,
   "metadata": {
    "ExecuteTime": {
     "end_time": "2019-11-08T20:57:58.271117Z",
     "start_time": "2019-11-08T20:57:57.289917Z"
    }
   },
   "outputs": [
    {
     "data": {
      "text/plain": [
       "Text(0.5,1,'MR period variation with N')"
      ]
     },
     "execution_count": 396,
     "metadata": {},
     "output_type": "execute_result"
    },
    {
     "data": {
      "image/png": "[encoded data removed]",
      "text/plain": [
       "<Figure size 432x288 with 1 Axes>"
      ]
     },
     "metadata": {},
     "output_type": "display_data"
    }
   ],
   "source": [
    "ps = []\n",
    "Ns = np.linspace(.1, 20, 100)\n",
    "for N in Ns:\n",
    "    w = SOC( N_Omega=N)\n",
    "    ps.append(w._omega2periodyr(w.omega_MR))\n",
    "plt.loglog(Ns, ps)\n",
    "plt.ylim(.01,100)\n",
    "plt.grid(which='both')\n",
    "plt.ylabel('period (yr)')\n",
    "plt.title(\"MR period variation with N\")"
   ]
  },
  {
   "cell_type": "code",
   "execution_count": 397,
   "metadata": {
    "ExecuteTime": {
     "end_time": "2019-11-08T20:58:01.631736Z",
     "start_time": "2019-11-08T20:58:01.187928Z"
    }
   },
   "outputs": [
    {
     "data": {
      "text/plain": [
       "Text(0.5,1,'MR period variation with th_0')"
      ]
     },
     "execution_count": 397,
     "metadata": {},
     "output_type": "execute_result"
    },
    {
     "data": {
      "image/png": "[encoded data removed]",
      "text/plain": [
       "<Figure size 432x288 with 1 Axes>"
      ]
     },
     "metadata": {},
     "output_type": "display_data"
    }
   ],
   "source": [
    "yrs = []\n",
    "ths = np.linspace(.1, 89.9,100)\n",
    "for th in ths:\n",
    "    w = SOC(m=1, th_0=th, L_th=800e3)\n",
    "    yrs.append(w._omega2periodyr(w.omega_MR))\n",
    "plt.semilogy(ths,yrs)\n",
    "plt.ylim(.1,10)\n",
    "plt.grid(which='both')\n",
    "plt.ylabel('period (yr)')\n",
    "plt.xlabel('th_0 (deg)')\n",
    "plt.title(\"MR period variation with th_0\")"
   ]
  },
  {
   "cell_type": "code",
   "execution_count": 398,
   "metadata": {
    "ExecuteTime": {
     "end_time": "2019-11-08T20:58:04.485485Z",
     "start_time": "2019-11-08T20:58:03.866589Z"
    }
   },
   "outputs": [
    {
     "data": {
      "text/plain": [
       "Text(0.5,1,'MR period variation with H')"
      ]
     },
     "execution_count": 398,
     "metadata": {},
     "output_type": "execute_result"
    },
    {
     "data": {
      "image/png": "[encoded data removed]",
      "text/plain": [
       "<Figure size 432x288 with 1 Axes>"
      ]
     },
     "metadata": {},
     "output_type": "display_data"
    }
   ],
   "source": [
    "ps = []\n",
    "Hs = np.linspace(20e3, 300e3,100)\n",
    "for H in Hs:\n",
    "    w = SOC(m=5, th_0=45, L_th=800e3, H=H)\n",
    "    ps.append(w._omega2periodyr(w.omega_MR))\n",
    "plt.loglog(Hs/1e3,ps)\n",
    "plt.ylim(.1,10)\n",
    "plt.xlim(10,1000)\n",
    "plt.grid(which='both')\n",
    "plt.ylabel('period (yr)')\n",
    "plt.xlabel('H (km)')\n",
    "plt.title(\"MR period variation with H\")"
   ]
  },
  {
   "cell_type": "code",
   "execution_count": 399,
   "metadata": {
    "ExecuteTime": {
     "end_time": "2019-11-08T20:58:08.227430Z",
     "start_time": "2019-11-08T20:58:07.123824Z"
    }
   },
   "outputs": [
    {
     "data": {
      "text/plain": [
       "Text(0.5,1,'MR period variation with L_th')"
      ]
     },
     "execution_count": 399,
     "metadata": {},
     "output_type": "execute_result"
    },
    {
     "data": {
      "image/png": "[encoded data removed]",
      "text/plain": [
       "<Figure size 432x288 with 1 Axes>"
      ]
     },
     "metadata": {},
     "output_type": "display_data"
    }
   ],
   "source": [
    "ps = []\n",
    "lths = np.linspace(80e3, 8000e3,100)\n",
    "for lth in lths:\n",
    "    w = SOC(m=5, th_0=45, L_th=lth)\n",
    "    ps.append(w._omega2periodyr(w.omega_MR))\n",
    "plt.loglog(lths/1e3,ps)\n",
    "plt.ylim(.1,10)\n",
    "plt.grid(which='both')\n",
    "plt.ylabel('period (yr)')\n",
    "plt.xlabel('L_th (km)')\n",
    "plt.title(\"MR period variation with L_th\")"
   ]
  },
  {
   "cell_type": "code",
   "execution_count": 400,
   "metadata": {
    "ExecuteTime": {
     "end_time": "2019-11-08T20:58:09.941508Z",
     "start_time": "2019-11-08T20:58:09.299242Z"
    }
   },
   "outputs": [
    {
     "data": {
      "text/plain": [
       "Text(0.5,1,'MR period variation with m')"
      ]
     },
     "execution_count": 400,
     "metadata": {},
     "output_type": "execute_result"
    },
    {
     "data": {
      "image/png": "[encoded data removed]",
      "text/plain": [
       "<Figure size 432x288 with 1 Axes>"
      ]
     },
     "metadata": {},
     "output_type": "display_data"
    }
   ],
   "source": [
    "ps = []\n",
    "ms = range(1,10)\n",
    "for m in ms:\n",
    "    w = SOC(m=m, th_0=45, L_th=800e3)\n",
    "    ps.append(w._omega2periodyr(w.omega_MR))\n",
    "plt.loglog(ms, ps)\n",
    "plt.ylim(1,10)\n",
    "plt.grid(which='both')\n",
    "plt.ylabel('period (yr)')\n",
    "plt.xlabel('m')\n",
    "plt.title(\"MR period variation with m\")"
   ]
  },
  {
   "cell_type": "markdown",
   "metadata": {},
   "source": [
    "# Extrapolation to m=1,2 \n",
    "** NOTE: I can't get these to match **"
   ]
  },
  {
   "cell_type": "markdown",
   "metadata": {},
   "source": [
    "## m=1"
   ]
  },
  {
   "cell_type": "code",
   "execution_count": 345,
   "metadata": {
    "ExecuteTime": {
     "end_time": "2019-11-08T20:16:51.396672Z",
     "start_time": "2019-11-08T20:16:51.386076Z"
    }
   },
   "outputs": [
    {
     "name": "stdout",
     "output_type": "stream",
     "text": [
      "omega_beta = 1.56e-08 /s , period = 12.75 yr\n",
      "omega_B = 2.51e-08 /s , period = 7.92 yr\n",
      "omega_MR = -5.60e-08 /s , period = 3.55 yr\n",
      "omega_MR_sr = -6.64e-08 /s , period = 3.00 yr\n"
     ]
    }
   ],
   "source": [
    "# A simple extrapolation of (35a) and (39a) shows that the period ~30 yr \n",
    "# may be expected for a global-scale MR- waves, with m ~ 1, 2. \n",
    "w = SOC(m=1, th_0=45, L_th=800e3, n=1)\n",
    "w.print_beta()\n",
    "w.print_B()\n",
    "w.print_MR()\n",
    "w.print_MR_sr()"
   ]
  },
  {
   "cell_type": "code",
   "execution_count": 346,
   "metadata": {
    "ExecuteTime": {
     "end_time": "2019-11-08T20:16:41.986347Z",
     "start_time": "2019-11-08T20:16:41.980523Z"
    },
    "scrolled": true
   },
   "outputs": [
    {
     "name": "stdout",
     "output_type": "stream",
     "text": [
      "\n",
      "!!! DOES NOT MATCH !!!\n",
      "\n",
      "omega_beta = 1.56e-08 /s , period = 12.75 yr\n",
      "omega_B = 2.51e-08 /s , period = 7.92 yr\n",
      "omega_MR = -5.60e-08 /s , period = 3.55 yr\n",
      "omega_MR_sr = -6.64e-08 /s , period = 3.00 yr\n",
      "\n",
      "!!! DOES NOT MATCH !!!\n",
      "\n"
     ]
    }
   ],
   "source": [
    "# A simple extrapolation of (35a) and (39a) shows that the period ~30 yr \n",
    "# may be expected for a global-scale MR- waves, with m ~ 1, 2. \n",
    "w = SOC(m=1, th_0=45, L_th=800e3)\n",
    "print(\"\\n!!! DOES NOT MATCH !!!\\n\")\n",
    "w.print_beta()\n",
    "w.print_B()\n",
    "w.print_MR()\n",
    "w.print_MR_sr()\n",
    "print(\"\\n!!! DOES NOT MATCH !!!\\n\")"
   ]
  },
  {
   "cell_type": "markdown",
   "metadata": {},
   "source": [
    "## m=2"
   ]
  },
  {
   "cell_type": "code",
   "execution_count": 350,
   "metadata": {
    "ExecuteTime": {
     "end_time": "2019-11-08T20:16:51.396672Z",
     "start_time": "2019-11-08T20:16:51.386076Z"
    }
   },
   "outputs": [
    {
     "name": "stdout",
     "output_type": "stream",
     "text": [
      "\n",
      "!!! DOES NOT MATCH !!!\n",
      "\n",
      "omega_beta = 3.12e-08 /s , period = 6.38 yr\n",
      "omega_B = 2.55e-08 /s , period = 7.80 yr\n",
      "omega_MR = -5.21e-08 /s , period = 3.82 yr\n",
      "omega_MR_sr = -5.66e-08 /s , period = 3.52 yr\n",
      "\n",
      "!!! DOES NOT MATCH !!!\n",
      "\n"
     ]
    }
   ],
   "source": [
    "# A simple extrapolation of (35a) and (39a) shows that the period ~30 yr\n",
    "# may be expected for a global-scale MR- waves, with m ~ 1, 2.\n",
    "w = SOC(m=2, th_0=45, L_th=800e3)\n",
    "print(\"\\n!!! DOES NOT MATCH !!!\\n\")\n",
    "w.print_beta()\n",
    "w.print_B()\n",
    "w.print_MR()\n",
    "w.print_MR_sr()\n",
    "print(\"\\n!!! DOES NOT MATCH !!!\\n\")"
   ]
  },
  {
   "cell_type": "code",
   "execution_count": null,
   "metadata": {},
   "outputs": [],
   "source": []
  },
  {
   "cell_type": "code",
   "execution_count": null,
   "metadata": {},
   "outputs": [],
   "source": []
  }
 ],
 "metadata": {
  "kernelspec": {
   "display_name": "Python 3",
   "language": "python",
   "name": "python3"
  },
  "language_info": {
   "codemirror_mode": {
    "name": "ipython",
    "version": 3
   },
   "file_extension": ".py",
   "mimetype": "text/x-python",
   "name": "python",
   "nbconvert_exporter": "python",
   "pygments_lexer": "ipython3",
   "version": "3.6.5"
  },
  "toc": {
   "base_numbering": 1,
   "nav_menu": {},
   "number_sections": true,
   "sideBar": true,
   "skip_h1_title": false,
   "title_cell": "Table of Contents",
   "title_sidebar": "Contents",
   "toc_cell": false,
   "toc_position": {
    "height": "calc(100% - 180px)",
    "left": "10px",
    "top": "150px",
    "width": "165px"
   },
   "toc_section_display": true,
   "toc_window_display": false
  },
  "varInspector": {
   "cols": {
    "lenName": 16,
    "lenType": 16,
    "lenVar": 40
   },
   "kernels_config": {
    "python": {
     "delete_cmd_postfix": "",
     "delete_cmd_prefix": "del ",
     "library": "var_list.py",
     "varRefreshCmd": "print(var_dic_list())"
    },
    "r": {
     "delete_cmd_postfix": ") ",
     "delete_cmd_prefix": "rm(",
     "library": "var_list.r",
     "varRefreshCmd": "cat(var_dic_list()) "
    }
   },
   "types_to_exclude": [
    "module",
    "function",
    "builtin_function_or_method",
    "instance",
    "_Feature"
   ],
   "window_display": false
  }
 },
 "nbformat": 4,
 "nbformat_minor": 2
}
